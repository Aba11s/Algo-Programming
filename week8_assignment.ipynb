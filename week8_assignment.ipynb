{
  "cells": [
    {
      "cell_type": "markdown",
      "metadata": {
        "id": "view-in-github",
        "colab_type": "text"
      },
      "source": [
        "<a href=\"https://colab.research.google.com/github/Aba11s/Algo-Programming/blob/main/week8_assignment.ipynb\" target=\"_parent\"><img src=\"https://colab.research.google.com/assets/colab-badge.svg\" alt=\"Open In Colab\"/></a>"
      ]
    },
    {
      "cell_type": "markdown",
      "source": [
        "**Week 8 Assignment**\n",
        "\n",
        "Please submit your colab link through this form:\n",
        "\n",
        "https://forms.office.com/r/JT5QgnLhX7"
      ],
      "metadata": {
        "id": "RBFF4iauoSZb"
      }
    },
    {
      "cell_type": "markdown",
      "metadata": {
        "id": "Lfft4HQuoOYo"
      },
      "source": [
        "Write a Python function called find_duplicates that takes a list of integers as input and returns a new list containing only the unique elements of the input list. However, if there are duplicate elements in the input list, the function should keep only the first occurrence of each duplicate element in the output list.\n",
        "\n",
        "For example, if the input list is [1, 2, 3, 2, 4, 5, 6, 1], the output should be [1, 2, 3, 4, 5, 6]"
      ]
    },
    {
      "cell_type": "code",
      "execution_count": 6,
      "metadata": {
        "id": "MwuobwCQoOYu",
        "outputId": "4666d186-40fd-4ca0-ba4e-23377bc46d2d",
        "colab": {
          "base_uri": "https://localhost:8080/"
        }
      },
      "outputs": [
        {
          "output_type": "stream",
          "name": "stdout",
          "text": [
            "[1, 2, 3, 4, 5, 6]\n"
          ]
        }
      ],
      "source": [
        "def find_duplicates(input_list):\n",
        "    unique_elements = []\n",
        "    seen_elements = set()\n",
        "\n",
        "    for element in input_list:\n",
        "        if element not in unique_elements:\n",
        "          unique_elements.append(element)\n",
        "\n",
        "    return unique_elements\n",
        "\n",
        "# Example usage:\n",
        "input_list = [1, 2, 3, 2, 4, 5, 6, 1]\n",
        "result = find_duplicates(input_list)\n",
        "print(result)\n"
      ]
    },
    {
      "cell_type": "markdown",
      "metadata": {
        "id": "UmiE4CTtoOYw"
      },
      "source": [
        "Write a Python function called merge_dictionaries that takes two dictionaries as input and returns a new dictionary that is a merge of the two input dictionaries. If there are common keys in both dictionaries, the values from the second dictionary should overwrite the values from the first dictionary.\n",
        "\n",
        "For example, if the first dictionary is {'a': 1, 'b': 2, 'c': 3} and the second dictionary is {'b': 4, 'd': 5}, the output should be {'a': 1, 'b': 4, 'c': 3, 'd': 5}."
      ]
    },
    {
      "cell_type": "code",
      "execution_count": 9,
      "metadata": {
        "id": "SsLsdH4loOYx",
        "outputId": "47f4743a-66b7-48ad-c458-cfba3e8d9db0",
        "colab": {
          "base_uri": "https://localhost:8080/"
        }
      },
      "outputs": [
        {
          "output_type": "stream",
          "name": "stdout",
          "text": [
            "{'a': 1, 'b': 4, 'c': 3, 'd': 5}\n"
          ]
        }
      ],
      "source": [
        "def merge_dictionaries(dict1, dict2):\n",
        "    dict3 = dict1 | dict2\n",
        "    return dict3\n",
        "\n",
        "# Example usage:\n",
        "dict1 = {'a': 1, 'b': 2, 'c': 3}\n",
        "dict2 = {'b': 4, 'd': 5}\n",
        "result = merge_dictionaries(dict1, dict2)\n",
        "print(result)"
      ]
    },
    {
      "cell_type": "markdown",
      "metadata": {
        "id": "3q8SWyjzoOYy"
      },
      "source": [
        "Write a Python program that takes an integer as input and calculates the factorial of that number using a while loop. The factorial of a non-negative integer n is the product of all positive integers less than or equal to n.\n",
        "\n",
        "Write the program and provide an example of how to use it."
      ]
    },
    {
      "cell_type": "code",
      "execution_count": 11,
      "metadata": {
        "id": "szdvk9VMoOYz",
        "outputId": "23772378-7bfc-4fa3-9902-4a78b834d97d",
        "colab": {
          "base_uri": "https://localhost:8080/"
        }
      },
      "outputs": [
        {
          "output_type": "stream",
          "name": "stdout",
          "text": [
            "Enter a non-negative integer: 3\n",
            "The factorial of 3 is 6\n"
          ]
        }
      ],
      "source": [
        "def calculate_factorial(n):\n",
        "    x = 1\n",
        "    m = n\n",
        "    if m == 0:\n",
        "      return 1\n",
        "    elif m > 0:\n",
        "      while m > 1:\n",
        "        x *= m\n",
        "        m -= 1\n",
        "      return x\n",
        "\n",
        "\n",
        "# Example usage:\n",
        "user_input = int(input(\"Enter a non-negative integer: \"))\n",
        "result = calculate_factorial(user_input)\n",
        "\n",
        "if isinstance(result, str):\n",
        "    print(result)\n",
        "else:\n",
        "    print(f\"The factorial of {user_input} is {result}\")"
      ]
    },
    {
      "cell_type": "markdown",
      "metadata": {
        "id": "uoWMmIoOoOYz"
      },
      "source": [
        "Write a Python program that takes a list of numbers as input and calculates the sum of all the even numbers in the list using a for loop. The program should then print the sum."
      ]
    },
    {
      "cell_type": "code",
      "execution_count": 14,
      "metadata": {
        "id": "9Xp-Rq6JoOY0",
        "outputId": "09205130-42fd-4b45-92d7-7bb9394c5ff0",
        "colab": {
          "base_uri": "https://localhost:8080/"
        }
      },
      "outputs": [
        {
          "output_type": "stream",
          "name": "stdout",
          "text": [
            "Enter a list of numbers separated by spaces: 1 2 2 3 3 4\n",
            "The sum of even numbers in the list is: 8\n"
          ]
        }
      ],
      "source": [
        "def sum_of_even_numbers(number_list):\n",
        "    even_list = []\n",
        "    for num in number_list:\n",
        "      if num % 2 == 0:\n",
        "        even_list.append(num)\n",
        "    return sum(even_list)\n",
        "# Example usage:\n",
        "user_input = input(\"Enter a list of numbers separated by spaces: \")\n",
        "number_list = [int(num) for num in user_input.split()]\n",
        "\n",
        "result = sum_of_even_numbers(number_list)\n",
        "print(f\"The sum of even numbers in the list is: {result}\")\n"
      ]
    },
    {
      "cell_type": "code",
      "source": [],
      "metadata": {
        "id": "uZcKPMcBzZ0Y"
      },
      "execution_count": null,
      "outputs": []
    }
  ],
  "metadata": {
    "kernelspec": {
      "display_name": "Python 3",
      "language": "python",
      "name": "python3"
    },
    "language_info": {
      "codemirror_mode": {
        "name": "ipython",
        "version": 3
      },
      "file_extension": ".py",
      "mimetype": "text/x-python",
      "name": "python",
      "nbconvert_exporter": "python",
      "pygments_lexer": "ipython3",
      "version": "3.11.5"
    },
    "colab": {
      "provenance": [],
      "include_colab_link": true
    }
  },
  "nbformat": 4,
  "nbformat_minor": 0
}